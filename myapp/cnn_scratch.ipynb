{
 "cells": [
  {
   "cell_type": "code",
   "execution_count": 1,
   "metadata": {},
   "outputs": [],
   "source": [
    "import torch\n",
    "import torch.nn as nn\n",
    "from torchvision.transforms import transforms\n",
    "import numpy as np\n",
    "from torch.autograd import Variable\n",
    "from torchvision.models import squeezenet1_1\n",
    "import torch.functional as F\n",
    "from io import open\n",
    "import os\n",
    "from PIL import Image\n",
    "import pathlib\n",
    "import glob\n",
    "import cv2\n"
   ]
  },
  {
   "cell_type": "code",
   "execution_count": 2,
   "metadata": {},
   "outputs": [],
   "source": [
    "train_path = 'c:/Users/Ram/Desktop/Datasets'\n",
    "pred_path = 'c:/Users/Ram/Desktop/Dataset_Test/*'\n"
   ]
  },
  {
   "cell_type": "code",
   "execution_count": 3,
   "metadata": {},
   "outputs": [],
   "source": [
    "root = pathlib.Path(train_path)\n",
    "classes = sorted([j.name.split('/')[-1] for j in root.iterdir()])"
   ]
  },
  {
   "cell_type": "code",
   "execution_count": 4,
   "metadata": {},
   "outputs": [],
   "source": [
    "class ConvNet (nn.Module): \n",
    "    def __init__ (self,num_classes=2):\n",
    "        super (ConvNet, self).__init__()\n",
    "\n",
    "        #((w-f+2P)/s) +1\n",
    "        self.conv1=nn.Conv2d(in_channels=3,out_channels=12, kernel_size=3, stride=1,padding=1)\n",
    "        self.bn1 = nn.BatchNorm2d(num_features =12)\n",
    "        self.relu1 = nn.ReLU()\n",
    "       \n",
    "        self.pool = nn.MaxPool2d(kernel_size=2)\n",
    "        \n",
    "        self.conv2=nn.Conv2d(in_channels=12,out_channels=20, kernel_size=3, stride=1,padding=1)\n",
    "        self.relu2 = nn.ReLU()\n",
    "        \n",
    "        self.conv3=nn.Conv2d(in_channels=20,out_channels=32, kernel_size=3, stride=1,padding=1)\n",
    "        self.bn3 = nn.BatchNorm2d(num_features =32)\n",
    "        self.relu3 = nn.ReLU()\n",
    "        \n",
    "        \n",
    "        self.fc = nn.Linear(in_features = 32*75*75,out_features = num_classes)\n",
    "        \n",
    "    def forward(self, input):\n",
    "        output = self.conv1(input)\n",
    "        output = self.bn1(output)\n",
    "        output = self.relu1(output)\n",
    "            \n",
    "        output = self.pool(output)\n",
    "            \n",
    "        output = self.conv2(output)\n",
    "        output = self.relu2(output)\n",
    "            \n",
    "        output = self.conv3(output)\n",
    "        output = self.bn3(output)\n",
    "        output = self.relu3(output)\n",
    "            \n",
    "        output = output.view(-1,32*75*75)\n",
    "            \n",
    "        output = self.fc(output)\n",
    "        return output\n",
    "            \n",
    "            \n",
    "            "
   ]
  },
  {
   "cell_type": "code",
   "execution_count": 5,
   "metadata": {},
   "outputs": [
    {
     "data": {
      "text/plain": [
       "ConvNet(\n",
       "  (conv1): Conv2d(3, 12, kernel_size=(3, 3), stride=(1, 1), padding=(1, 1))\n",
       "  (bn1): BatchNorm2d(12, eps=1e-05, momentum=0.1, affine=True, track_running_stats=True)\n",
       "  (relu1): ReLU()\n",
       "  (pool): MaxPool2d(kernel_size=2, stride=2, padding=0, dilation=1, ceil_mode=False)\n",
       "  (conv2): Conv2d(12, 20, kernel_size=(3, 3), stride=(1, 1), padding=(1, 1))\n",
       "  (relu2): ReLU()\n",
       "  (conv3): Conv2d(20, 32, kernel_size=(3, 3), stride=(1, 1), padding=(1, 1))\n",
       "  (bn3): BatchNorm2d(32, eps=1e-05, momentum=0.1, affine=True, track_running_stats=True)\n",
       "  (relu3): ReLU()\n",
       "  (fc): Linear(in_features=180000, out_features=2, bias=True)\n",
       ")"
      ]
     },
     "execution_count": 5,
     "metadata": {},
     "output_type": "execute_result"
    }
   ],
   "source": [
    "checkpoint = torch.load('best_checkint.model')\n",
    "model = ConvNet(num_classes = 2)\n",
    "model.load_state_dict(checkpoint)\n",
    "model.eval()"
   ]
  },
  {
   "cell_type": "code",
   "execution_count": 6,
   "metadata": {},
   "outputs": [],
   "source": [
    "transformer = transforms.Compose([\n",
    "    transforms.Resize((150,150)),\n",
    "    transforms.RandomHorizontalFlip(),\n",
    "    transforms.ToTensor(),\n",
    "    transforms.Normalize([0.5,0.5,0.5],\n",
    "                        [0.5,0.5,0.5])\n",
    "])"
   ]
  },
  {
   "cell_type": "code",
   "execution_count": 7,
   "metadata": {},
   "outputs": [],
   "source": [
    "def prediction(img_path,transformer):\n",
    "    image = Image.open(img_path)\n",
    "    image_tensor = transformer(image).float()\n",
    "    image_tensor = image_tensor.unsqueeze_(0)\n",
    "    \n",
    "    if torch.cuda.is_available():\n",
    "        image_tensor.cuda()\n",
    "        \n",
    "    input = Variable(image_tensor)\n",
    "    \n",
    "    output = model(input)\n",
    "    \n",
    "    index = output.data.numpy().argmax()\n",
    "    \n",
    "    pred = classes[index]\n",
    "    return pred\n"
   ]
  },
  {
   "cell_type": "code",
   "execution_count": 9,
   "metadata": {},
   "outputs": [],
   "source": [
    "pred_dict = {}\n",
    "\n",
    "for i in glob.glob(pred_path):\n",
    "    pred_dict[i[i.rfind('/*')+1:]]=prediction(i,transformer)"
   ]
  },
  {
   "cell_type": "code",
   "execution_count": 10,
   "metadata": {},
   "outputs": [
    {
     "data": {
      "text/plain": [
       "{'c:/Users/Ram/Desktop/Dataset_Test\\\\1194960-pothole.jpg': 'pothole_image_data',\n",
       " 'c:/Users/Ram/Desktop/Dataset_Test\\\\GeeksForGeeks.png': 'Garbage classification',\n",
       " 'c:/Users/Ram/Desktop/Dataset_Test\\\\images.jpg': 'Garbage classification',\n",
       " 'c:/Users/Ram/Desktop/Dataset_Test\\\\laptop.jpg': 'Garbage classification'}"
      ]
     },
     "execution_count": 10,
     "metadata": {},
     "output_type": "execute_result"
    }
   ],
   "source": [
    "pred_dict"
   ]
  },
  {
   "cell_type": "code",
   "execution_count": 11,
   "metadata": {},
   "outputs": [],
   "source": [
    "classify = pred_dict.get('c:/Users/Ram/Desktop/Dataset_Test\\\\laptop.jpg')"
   ]
  },
  {
   "cell_type": "code",
   "execution_count": 12,
   "metadata": {},
   "outputs": [
    {
     "name": "stdout",
     "output_type": "stream",
     "text": [
      "wrong input111\n"
     ]
    }
   ],
   "source": [
    "if classify == 'Garbage classification':\n",
    "    print(\"wrong input111\")"
   ]
  },
  {
   "cell_type": "code",
   "execution_count": null,
   "metadata": {},
   "outputs": [],
   "source": []
  }
 ],
 "metadata": {
  "kernelspec": {
   "display_name": "Python 3",
   "language": "python",
   "name": "python3"
  },
  "language_info": {
   "codemirror_mode": {
    "name": "ipython",
    "version": 3
   },
   "file_extension": ".py",
   "mimetype": "text/x-python",
   "name": "python",
   "nbconvert_exporter": "python",
   "pygments_lexer": "ipython3",
   "version": "3.7.6"
  }
 },
 "nbformat": 4,
 "nbformat_minor": 4
}
